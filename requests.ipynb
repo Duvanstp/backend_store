{
 "cells": [
  {
   "cell_type": "code",
   "execution_count": 13,
   "metadata": {},
   "outputs": [
    {
     "name": "stdout",
     "output_type": "stream",
     "text": [
      "Token obtenido: b22b2d058bde99035eb2f8d8001a0ff515569024\n"
     ]
    }
   ],
   "source": [
    "import requests\n",
    "\n",
    "url = \"http://127.0.0.1:8000/api/token/\"\n",
    "\n",
    "data = {\n",
    "    \"username\": \"duvan\",  # Reemplaza con tu nombre de usuario\n",
    "    \"password\": \"duvan\"  # Reemplaza con tu contraseña\n",
    "}\n",
    "\n",
    "response = requests.post(url, data=data)\n",
    "\n",
    "if response.status_code == 200:\n",
    "    token = response.json().get(\"token\")\n",
    "    print(f\"Token obtenido: {token}\")\n",
    "else:\n",
    "    print(f\"Error: {response.status_code}\")\n",
    "    print(f\"Mensaje: {response.text}\")\n"
   ]
  },
  {
   "cell_type": "markdown",
   "metadata": {},
   "source": [
    "#### Request para get de products"
   ]
  },
  {
   "cell_type": "code",
   "execution_count": 18,
   "metadata": {},
   "outputs": [
    {
     "name": "stdout",
     "output_type": "stream",
     "text": [
      "Datos obtenidos: [{'id': 1, 'image1': None, 'image2': None, 'image3': None, 'image4': None, 'image5': None, 'image6': None, 'name': 'Producto de prueba', 'description': 'Descripción del producto de prueba', 'price': '123.45', 'discount': '5.00', 'stock': 10, 'color': 'Azul', 'category': 'Velas', 'product_type': 'Decorativa', 'fragrance': 'Lavanda', 'size': 'Grande', 'weight': 500, 'duration': 10, 'materials': 'Cera, pabilo, esencias'}, {'id': 2, 'image1': None, 'image2': None, 'image3': None, 'image4': None, 'image5': None, 'image6': None, 'name': 'Producto de prueba', 'description': 'Descripción del producto de prueba', 'price': '123.45', 'discount': '5.00', 'stock': 10, 'color': 'Azul', 'category': 'Velas', 'product_type': 'Decorativa', 'fragrance': 'Lavanda', 'size': 'Grande', 'weight': 500, 'duration': 10, 'materials': 'Cera, pabilo, esencias'}]\n"
     ]
    }
   ],
   "source": [
    "base_url = \"http://127.0.0.1:8000/api/\" \n",
    "\n",
    "access_token = token \n",
    "\n",
    "# Encabezados con autenticación\n",
    "headers = {\n",
    "    \"Authorization\": f\"Token {access_token}\"\n",
    "}\n",
    "\n",
    "endpoint = \"products/\"  \n",
    "url = base_url + endpoint\n",
    "\n",
    "response = requests.get(url, headers=headers)\n",
    "\n",
    "if response.status_code == 200:\n",
    "    data = response.json()\n",
    "    print(f\"Datos obtenidos: {data}\")\n",
    "else:\n",
    "    print(f\"Error: {response.status_code}\")\n",
    "    print(f\"Mensaje: {response.text}\")\n"
   ]
  },
  {
   "cell_type": "markdown",
   "metadata": {},
   "source": [
    "#### Ahora un post a products"
   ]
  },
  {
   "cell_type": "code",
   "execution_count": 17,
   "metadata": {},
   "outputs": [
    {
     "name": "stdout",
     "output_type": "stream",
     "text": [
      "Producto creado exitosamente: {'id': 2, 'image1': None, 'image2': None, 'image3': None, 'image4': None, 'image5': None, 'image6': None, 'name': 'Producto de prueba', 'description': 'Descripción del producto de prueba', 'price': '123.45', 'discount': '5.00', 'stock': 10, 'color': 'Azul', 'category': 'Velas', 'product_type': 'Decorativa', 'fragrance': 'Lavanda', 'size': 'Grande', 'weight': 500, 'duration': 10, 'materials': 'Cera, pabilo, esencias'}\n"
     ]
    }
   ],
   "source": [
    "data = {\n",
    "    \"name\": \"Producto de prueba\",\n",
    "    \"description\": \"Descripción del producto de prueba\",\n",
    "    \"price\": \"123.45\",\n",
    "    \"discount\": \"5.00\",\n",
    "    \"stock\": 10,\n",
    "    \"color\": \"Azul\",\n",
    "    \"category\": \"Velas\",\n",
    "    \"product_type\": \"Decorativa\",\n",
    "    \"fragrance\": \"Lavanda\",\n",
    "    \"size\": \"Grande\",\n",
    "    \"weight\": 500,\n",
    "    \"duration\": 10,\n",
    "    \"materials\": \"Cera, pabilo, esencias\",\n",
    "}\n",
    "\n",
    "headers = {\n",
    "    \"Authorization\": f\"Token {access_token}\",\n",
    "    \"Content-Type\": \"application/json\",\n",
    "}\n",
    "\n",
    "response = requests.post(url, json=data, headers=headers)\n",
    "\n",
    "if response.status_code == 201:\n",
    "    print(\"Producto creado exitosamente:\", response.json())\n",
    "else:\n",
    "    print(\"Error al crear el producto:\", response.status_code, response.text)\n"
   ]
  },
  {
   "cell_type": "code",
   "execution_count": null,
   "metadata": {},
   "outputs": [],
   "source": []
  }
 ],
 "metadata": {
  "kernelspec": {
   "display_name": "venv",
   "language": "python",
   "name": "python3"
  },
  "language_info": {
   "codemirror_mode": {
    "name": "ipython",
    "version": 3
   },
   "file_extension": ".py",
   "mimetype": "text/x-python",
   "name": "python",
   "nbconvert_exporter": "python",
   "pygments_lexer": "ipython3",
   "version": "3.11.5"
  }
 },
 "nbformat": 4,
 "nbformat_minor": 2
}
